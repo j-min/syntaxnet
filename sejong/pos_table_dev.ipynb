{
 "cells": [
  {
   "cell_type": "code",
   "execution_count": 10,
   "metadata": {
    "collapsed": true
   },
   "outputs": [],
   "source": [
    "import pickle\n",
    "from collections import Counter"
   ]
  },
  {
   "cell_type": "code",
   "execution_count": 11,
   "metadata": {
    "collapsed": false
   },
   "outputs": [],
   "source": [
    "f = open ('pos_table.txt', 'rb')\n",
    "pos_table  = pickle.load(f)\n",
    "#count = Counter(pos_table)"
   ]
  },
  {
   "cell_type": "code",
   "execution_count": 12,
   "metadata": {
    "collapsed": true
   },
   "outputs": [],
   "source": [
    "ex_sentence = \"이런 취지로 만들어진 부정청탁과 금품수수 금지의 관한 법률, 이른바 '김영란 법'이 이제 시행 4시간을 앞두고 있습니다.\""
   ]
  },
  {
   "cell_type": "code",
   "execution_count": 13,
   "metadata": {
    "collapsed": false
   },
   "outputs": [
    {
     "name": "stdout",
     "output_type": "stream",
     "text": [
      "['이런', '취지로', '만들어진', '부정청탁과', '금품수수', '금지의', '관한', '법률,', '이른바', \"'김영란\", \"법'이\", '이제', '시행', '4시간을', '앞두고', '있습니다.']\n"
     ]
    }
   ],
   "source": [
    "split = ex_sentence.split(' ')\n",
    "print(split)"
   ]
  },
  {
   "cell_type": "code",
   "execution_count": 41,
   "metadata": {
    "collapsed": false
   },
   "outputs": [
    {
     "name": "stdout",
     "output_type": "stream",
     "text": [
      "이런/MM confidence: 93.8118811881188%\n",
      "취지로\n",
      "만들/VV + 어/EC + 진/VX+ETM confidence: 100.0%\n",
      "부정청탁과\n",
      "금품수수\n",
      "금지의\n",
      "관한/VV+ETM confidence: 93.84615384615384%\n",
      "법률,\n",
      "이른바/MAG confidence: 100.0%\n",
      "'김영란\n",
      "법'이\n",
      "이제/MAG confidence: 100.0%\n",
      "시행/NNG confidence: 100.0%\n",
      "4/SN + 시간/NNG + 을/JKO confidence: 100.0%\n",
      "앞두/VV + 고/EC confidence: 100.0%\n",
      "있/VV + 습니다/EF + ./SF confidence: 63.1578947368421%\n"
     ]
    }
   ],
   "source": [
    "pos_tagged_sentence = []\n",
    "confidence = 0\n",
    "for i, eoj in enumerate(split):\n",
    "    confidence = 0\n",
    "    eoj_pos_tagged = ''\n",
    "    #print(eoj)\n",
    "    if eoj in pos_table.keys():\n",
    "        count = Counter(pos_table[eoj])\n",
    "        eoj_pos_tagged = count.most_common()[0][0]\n",
    "        #print(eoj_pos_tagged)\n",
    "        #print(type(eoj_pos_tagged))\n",
    "        pos_tagged_sentence.append(eoj_pos_tagged)\n",
    "        #print(pos_tagged_sentence)\n",
    "        confidence = count.most_common(1)[0][1]/len(pos_table[eoj])\n",
    "    else:\n",
    "        eoj_pos_tagged = eoj\n",
    "        pos_tagged_sentence.append(eoj_pos_tagged)\n",
    "    if not confidence == 0:\n",
    "        print(eoj_pos_tagged, 'confidence: '+str(confidence*100)+'%')\n",
    "    else:\n",
    "        print(eoj_pos_tagged)\n",
    "    if confidence\n",
    "    "
   ]
  },
  {
   "cell_type": "code",
   "execution_count": 42,
   "metadata": {
    "collapsed": false
   },
   "outputs": [
    {
     "data": {
      "text/plain": [
       "'\\n합성용언, 합성체언, 합성부사 등의 분리는 나중에 Ngram + NN으로\\n\\n\\n조사\\n은/는/이/가\\n\\n\\n'"
      ]
     },
     "execution_count": 42,
     "metadata": {},
     "output_type": "execute_result"
    }
   ],
   "source": [
    "\"\"\"\n",
    "합성용언, 합성체언, 합성부사 등의 분리는 나중에 Ngram + NN으로\n",
    "\n",
    "Rule-based\n",
    "\n",
    "체언\n",
    "일반명사, 고유명사, 의존명사, 대명사, 수사\n",
    "\n",
    "용언\n",
    "동사, 형용사, 보조용언, 긍정지정사, 부정지정사\n",
    "\n",
    "수식언\n",
    "관형사, 일반부사, 접속부사\n",
    "\n",
    "감탄사\n",
    "감탄사\n",
    "\n",
    "관계언\n",
    "주격조사, 보격조사, 관형격조사, 목적격조사, 부사격조사, 호격조사, 인용격조사, 보조사, 접속조사\n",
    "\n",
    "의존형태\n",
    "선어말어미, 종결어미, 연결어미, 명사형전성어미, 관형형전성어미\n",
    "체언접두사, 명사형파생접미사, 동사파생접미사, 형용사파생접미사\n",
    "어근\n",
    "\n",
    "기호\n",
    "마침표, 물음표, 느낌표, 쉼표, 가운뎃점, 콜론, 빗금\n",
    "따옴표, 괄호표, 줄표, 줄임표, 붙임표\n",
    "외국어, 한자\n",
    "명사추정범주, 용언추정범주\n",
    "숫자\n",
    "분석불능법주\n",
    "\n",
    "\n",
    "\"\"\""
   ]
  },
  {
   "cell_type": "code",
   "execution_count": null,
   "metadata": {
    "collapsed": true
   },
   "outputs": [],
   "source": [
    "\"\"\"\n",
    "2음절 이상 무조건 분리할 것들\n",
    "\n",
    "체언\n",
    "\n",
    "vocab에 넣어줄것\n",
    "\n",
    "고유명사\n",
    "약어, 준말, 책, 연극, 영화, 언어명, 나라이름\n",
    "회사이름, 제품이름, 서비스이름\n",
    "\n",
    "의존명사\n",
    "연대, 연도, 연차\n",
    "\n",
    "대명사\n",
    "우리, 저, 제, 저희\n",
    "그대, 당신, 댁, 어르신\n",
    "이이, 이분, 그이, 그분, 저이, 저분, 아무, 아무개, 누구, 무엇, 어디, 언제, 걔, 쟤, 얘\n",
    "이것, 저것, 그것, 이거, 저거, 그거, 여기, 저기, 거기, 이곳, 그곳, 저곳, 어디, 모모\n",
    "\n",
    "수사\n",
    "하나, 둘, 셋, 넷, 다섯, 여섯, 일곱, 여덟, 아홉, \n",
    "스물, 서른, 마흔, 쉰, 예순, 일흔, 여든, 아흔, 백\n",
    "한둘, 두서넛, 서넛, 너덧, 네다섯, 네댓, 대여섯, 예닐곱, 일여덟, 일고여덟, 열두서넛, 열대여섯, \n",
    "열일고여덟, 스물두서넛\n",
    "십만, 백만, 천만, 억, 조\n",
    "기십, 기백, 기천, 수십, 수백, 수천, 수만, 수억, 수십만, 수백만, 수천만\n",
    "첫째, 둘째, 셋째, 넷째, 다섯째, 여섯째, 일곱째, 여덟째, 아홉째, 열째, 열한째, 열두째, 열세째, 열내쩨\n",
    "\n",
    "\n",
    "\n",
    "\n",
    "\n",
    "\n",
    "\"\"\"\n"
   ]
  }
 ],
 "metadata": {
  "kernelspec": {
   "display_name": "Python [Root]",
   "language": "python",
   "name": "Python [Root]"
  },
  "language_info": {
   "codemirror_mode": {
    "name": "ipython",
    "version": 3
   },
   "file_extension": ".py",
   "mimetype": "text/x-python",
   "name": "python",
   "nbconvert_exporter": "python",
   "pygments_lexer": "ipython3",
   "version": "3.5.2"
  }
 },
 "nbformat": 4,
 "nbformat_minor": 0
}
