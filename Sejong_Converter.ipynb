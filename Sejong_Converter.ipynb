{
 "cells": [
  {
   "cell_type": "code",
   "execution_count": 1,
   "metadata": {
    "collapsed": false
   },
   "outputs": [
    {
     "data": {
      "text/plain": [
       "'\\nSejong_Corpus Converter\\nJaemin Cho/j-min\\n\\n- This file works well with dsindex\\'s SyntaxNet fork! (https://github.com/dsindex/syntaxnet)\\n- Remove every line but raw sentences and parsed sentences\\n- Raw files should be inside the same directory with this file.\\n- Inputs: Raw Sejong Corpora files ex) BGHO0411.txt (UTF-16)\\n\\n<!DOCTYPE tei.2 SYSTEM \"c:\\\\sgml\\\\dtd\\tei2.dtd\" [\\n\\t<!ENTITY % TEI.corpus \"INCLUDE\">\\n\\t<!ENTITY % TEI.extensions.ent SYSTEM \"sejong1.ent\">\\n\\t<!ENTITY % TEI.extensions.dtd SYSTEM \"sejong1.dtd\">\\n]>\\n\\n<tei.2>\\n<teiHeader>\\n\\t<fileDesc>\\n\\t\\t<titleStmt>\\n\\t\\t\\t<title>하늘에 뜬 돌도끼, 형태소 분석 전자파일</title>\\n\\t\\t\\t<author>손동인</author>\\n\\t\\t\\t<sponsor>대한민국 문화관광부</sponsor>\\n\\t\\t\\t<respStmt>\\n\\t\\t\\t\\t<resp>문헌입력, 표준화, 형태소 정보 부착</resp>\\n\\t\\t\\t\\t<name>고려대학교 민족문화연구원</name>\\n\\t\\t\\t</respStmt>\\n\\t\\t</titleStmt>\\n\\t\\t<extent>22,790어절, 3,346문장</extent>\\n\\t\\t<publicationStmt>\\n\\t\\t\\t<distributor>국립국어연구원</distributor>\\n\\t\\t\\t<idno>BGGO0098.txt, 형태분석: BTGO0098.txt, 원본:BRGO0098.txt</idno>\\n\\t\\t\\t<availability>배포 불가</availability>\\n\\t\\t</publicationStmt>\\n\\t\\t<notesStmt>\\n\\t\\t\\t<note>균형말뭉치에서 선정</note>\\n\\t\\t</notesStmt>\\n\\t\\t<sourceDesc>\\n\\t\\t\\t<bibl>\\n....\\n\\n- Output: Unified,  Text file\\n; 새 생명. \\n(NP \\t(DP 새/MM)\\n\\t(NP 생명/NNG + ./SF))\\n\\n; 나는 돈이다. \\n(S \\t(NP_SBJ 나/NP + 는/JX)\\n\\t(VNP 돈/NNG + 이/VCP + 다/EF + ./SF))\\n\\n; 만 원이라는 이름을 붙인 채, 이제 막 태어났다. \\n(VP \\t(NP_AJT \\t(VP_MOD \\t(NP_OBJ \\t(VNP_MOD \\t(NP 만/NR)\\n\\t\\t\\t\\t\\t(VNP_MOD 원/NNB + 이/VCP + 라는/ETM))\\n\\t\\t\\t\\t(NP_OBJ 이름/NNG + 을/JKO))\\n\\t\\t\\t(VP_MOD 붙이/VV + ᆫ/ETM))\\n\\t\\t(NP_AJT 채/NNB + ,/SP))\\n\\t(VP \\t(AP 이제/MAG)\\n\\t\\t(VP \\t(AP 막/MAG)\\n\\t\\t\\t(VP 태어나/VV + 았/EP + 다/EF + ./SF))))\\n\\n; 스슥, 슥-. 이게 마지막 과정이었다. \\n(S \\t(AP \\t(AP \\t(AP \\t(AP 스슥/MAG + ,/SP)\\n\\t\\t\\t\\t(AP 슥/MAG))\\n\\t\\t\\t(X -/SS))\\n\\t\\t(X ./SF))\\n\\t(S \\t(NP_SBJ 이것/NP + 이/JKS)\\n\\t\\t(VNP \\t(NP 마지막/NNG)\\n\\t\\t\\t(VNP 과정/NNG + 이/VCP + 었/EP + 다/EF + ./SF))))\\n....\\n'"
      ]
     },
     "execution_count": 1,
     "metadata": {},
     "output_type": "execute_result"
    }
   ],
   "source": [
    "\"\"\"\n",
    "Sejong_Corpus Converter\n",
    "Jaemin Cho/j-min\n",
    "\n",
    "- This file works well with dsindex's SyntaxNet fork! (https://github.com/dsindex/syntaxnet)\n",
    "- Remove every line but raw sentences and parsed sentences\n",
    "- Raw files should be inside the same directory with this file.\n",
    "- Inputs: Raw Sejong Corpora files ex) BGHO0411.txt (UTF-16)\n",
    "\n",
    "<!DOCTYPE tei.2 SYSTEM \"c:\\sgml\\dtd\\tei2.dtd\" [\n",
    "\t<!ENTITY % TEI.corpus \"INCLUDE\">\n",
    "\t<!ENTITY % TEI.extensions.ent SYSTEM \"sejong1.ent\">\n",
    "\t<!ENTITY % TEI.extensions.dtd SYSTEM \"sejong1.dtd\">\n",
    "]>\n",
    "\n",
    "<tei.2>\n",
    "<teiHeader>\n",
    "\t<fileDesc>\n",
    "\t\t<titleStmt>\n",
    "\t\t\t<title>하늘에 뜬 돌도끼, 형태소 분석 전자파일</title>\n",
    "\t\t\t<author>손동인</author>\n",
    "\t\t\t<sponsor>대한민국 문화관광부</sponsor>\n",
    "\t\t\t<respStmt>\n",
    "\t\t\t\t<resp>문헌입력, 표준화, 형태소 정보 부착</resp>\n",
    "\t\t\t\t<name>고려대학교 민족문화연구원</name>\n",
    "\t\t\t</respStmt>\n",
    "\t\t</titleStmt>\n",
    "\t\t<extent>22,790어절, 3,346문장</extent>\n",
    "\t\t<publicationStmt>\n",
    "\t\t\t<distributor>국립국어연구원</distributor>\n",
    "\t\t\t<idno>BGGO0098.txt, 형태분석: BTGO0098.txt, 원본:BRGO0098.txt</idno>\n",
    "\t\t\t<availability>배포 불가</availability>\n",
    "\t\t</publicationStmt>\n",
    "\t\t<notesStmt>\n",
    "\t\t\t<note>균형말뭉치에서 선정</note>\n",
    "\t\t</notesStmt>\n",
    "\t\t<sourceDesc>\n",
    "\t\t\t<bibl>\n",
    "....\n",
    "\n",
    "- Output: Unified Text file without irrelevant tags (UTF-8)\n",
    "; 새 생명. \n",
    "(NP \t(DP 새/MM)\n",
    "\t(NP 생명/NNG + ./SF))\n",
    "\n",
    "; 나는 돈이다. \n",
    "(S \t(NP_SBJ 나/NP + 는/JX)\n",
    "\t(VNP 돈/NNG + 이/VCP + 다/EF + ./SF))\n",
    "\n",
    "; 만 원이라는 이름을 붙인 채, 이제 막 태어났다. \n",
    "(VP \t(NP_AJT \t(VP_MOD \t(NP_OBJ \t(VNP_MOD \t(NP 만/NR)\n",
    "\t\t\t\t\t(VNP_MOD 원/NNB + 이/VCP + 라는/ETM))\n",
    "\t\t\t\t(NP_OBJ 이름/NNG + 을/JKO))\n",
    "\t\t\t(VP_MOD 붙이/VV + ᆫ/ETM))\n",
    "\t\t(NP_AJT 채/NNB + ,/SP))\n",
    "\t(VP \t(AP 이제/MAG)\n",
    "\t\t(VP \t(AP 막/MAG)\n",
    "\t\t\t(VP 태어나/VV + 았/EP + 다/EF + ./SF))))\n",
    "\n",
    "; 스슥, 슥-. 이게 마지막 과정이었다. \n",
    "(S \t(AP \t(AP \t(AP \t(AP 스슥/MAG + ,/SP)\n",
    "\t\t\t\t(AP 슥/MAG))\n",
    "\t\t\t(X -/SS))\n",
    "\t\t(X ./SF))\n",
    "\t(S \t(NP_SBJ 이것/NP + 이/JKS)\n",
    "\t\t(VNP \t(NP 마지막/NNG)\n",
    "\t\t\t(VNP 과정/NNG + 이/VCP + 었/EP + 다/EF + ./SF))))\n",
    "....\n",
    "\"\"\""
   ]
  },
  {
   "cell_type": "code",
   "execution_count": 2,
   "metadata": {
    "collapsed": true
   },
   "outputs": [],
   "source": [
    "import codecs\n",
    "import os"
   ]
  },
  {
   "cell_type": "code",
   "execution_count": 3,
   "metadata": {
    "collapsed": true
   },
   "outputs": [],
   "source": [
    "def allfiles(path):\n",
    "    res = []\n",
    "\n",
    "    for root, dirs, files in os.walk(path):\n",
    "        rootpath = os.path.join(os.path.abspath(path), root)\n",
    "\n",
    "        for file in files:\n",
    "            filepath = os.path.join(rootpath, file)\n",
    "            res.append(filepath)\n",
    "\n",
    "    return res"
   ]
  },
  {
   "cell_type": "code",
   "execution_count": 4,
   "metadata": {
    "collapsed": false
   },
   "outputs": [
    {
     "name": "stdout",
     "output_type": "stream",
     "text": [
      "['/home/jmin/workspace/NLP_KR/세종코퍼스_다운로드_데이터/구문분석/BGEO0320.txt', '/home/jmin/workspace/NLP_KR/세종코퍼스_다운로드_데이터/구문분석/BGAE0200.txt', '/home/jmin/workspace/NLP_KR/세종코퍼스_다운로드_데이터/구문분석/BGAA0164.txt', '/home/jmin/workspace/NLP_KR/세종코퍼스_다운로드_데이터/구문분석/BGEO0292.txt', '/home/jmin/workspace/NLP_KR/세종코퍼스_다운로드_데이터/구문분석/BGGO0098.txt', '/home/jmin/workspace/NLP_KR/세종코퍼스_다운로드_데이터/구문분석/BGAA0001.txt', '/home/jmin/workspace/NLP_KR/세종코퍼스_다운로드_데이터/구문분석/BGHO0127.txt', '/home/jmin/workspace/NLP_KR/세종코퍼스_다운로드_데이터/구문분석/BGHO0409.txt', '/home/jmin/workspace/NLP_KR/세종코퍼스_다운로드_데이터/구문분석/BGGO0358.txt', '/home/jmin/workspace/NLP_KR/세종코퍼스_다운로드_데이터/구문분석/BGHO0431.txt', '/home/jmin/workspace/NLP_KR/세종코퍼스_다운로드_데이터/구문분석/BGHO0107.txt', '/home/jmin/workspace/NLP_KR/세종코퍼스_다운로드_데이터/구문분석/BGEO0077.txt', '/home/jmin/workspace/NLP_KR/세종코퍼스_다운로드_데이터/구문분석/BGHO0437.txt', '/home/jmin/workspace/NLP_KR/세종코퍼스_다운로드_데이터/구문분석/BGBZ0073.txt', '/home/jmin/workspace/NLP_KR/세종코퍼스_다운로드_데이터/구문분석/BGHO0411.txt']\n"
     ]
    }
   ],
   "source": [
    "allfilelist = allfiles(os.getcwd())\n",
    "\n",
    "sejonglist = [file for file in allfilelist if \"BG\" in file]\n",
    "\n",
    "\n",
    "print(sejonglist)"
   ]
  },
  {
   "cell_type": "code",
   "execution_count": 5,
   "metadata": {
    "collapsed": false
   },
   "outputs": [
    {
     "name": "stdout",
     "output_type": "stream",
     "text": [
      "1 /home/jmin/workspace/NLP_KR/세종코퍼스_다운로드_데이터/구문분석/BGEO0320.txt\n",
      "2 /home/jmin/workspace/NLP_KR/세종코퍼스_다운로드_데이터/구문분석/BGAE0200.txt\n",
      "3 /home/jmin/workspace/NLP_KR/세종코퍼스_다운로드_데이터/구문분석/BGAA0164.txt\n",
      "4 /home/jmin/workspace/NLP_KR/세종코퍼스_다운로드_데이터/구문분석/BGEO0292.txt\n",
      "5 /home/jmin/workspace/NLP_KR/세종코퍼스_다운로드_데이터/구문분석/BGGO0098.txt\n",
      "6 /home/jmin/workspace/NLP_KR/세종코퍼스_다운로드_데이터/구문분석/BGAA0001.txt\n",
      "7 /home/jmin/workspace/NLP_KR/세종코퍼스_다운로드_데이터/구문분석/BGHO0127.txt\n",
      "8 /home/jmin/workspace/NLP_KR/세종코퍼스_다운로드_데이터/구문분석/BGHO0409.txt\n",
      "9 /home/jmin/workspace/NLP_KR/세종코퍼스_다운로드_데이터/구문분석/BGGO0358.txt\n",
      "10 /home/jmin/workspace/NLP_KR/세종코퍼스_다운로드_데이터/구문분석/BGHO0431.txt\n",
      "11 /home/jmin/workspace/NLP_KR/세종코퍼스_다운로드_데이터/구문분석/BGHO0107.txt\n",
      "12 /home/jmin/workspace/NLP_KR/세종코퍼스_다운로드_데이터/구문분석/BGEO0077.txt\n",
      "13 /home/jmin/workspace/NLP_KR/세종코퍼스_다운로드_데이터/구문분석/BGHO0437.txt\n",
      "14 /home/jmin/workspace/NLP_KR/세종코퍼스_다운로드_데이터/구문분석/BGBZ0073.txt\n",
      "15 /home/jmin/workspace/NLP_KR/세종코퍼스_다운로드_데이터/구문분석/BGHO0411.txt\n"
     ]
    }
   ],
   "source": [
    "for file_counter, rawfile in enumerate(sejonglist):\n",
    "    print(file_counter+1, rawfile)\n",
    "    \n",
    "    f = open(rawfile, 'r', encoding = 'utf-16')\n",
    "    OUT_FILENAME = \"converted\"+str(file_counter+1)\n",
    "    first_line = True\n",
    "    with codecs.open(OUT_FILENAME, \"w\", \"utf-8\") as file:\n",
    "        for line in f:\n",
    "            if \"<\" in line:\n",
    "                pass\n",
    "            elif \"; \" in line:\n",
    "                if first_line == False:\n",
    "                    file.write(\"\\n\")\n",
    "                file.write(line)\n",
    "            elif (\"(\"in line) and (\")\"in line) and (\"/\"in line):\n",
    "                file.write(line)\n",
    "                first_line = False\n",
    "    f.close()"
   ]
  },
  {
   "cell_type": "code",
   "execution_count": 6,
   "metadata": {
    "collapsed": false
   },
   "outputs": [
    {
     "name": "stdout",
     "output_type": "stream",
     "text": [
      "['/home/jmin/workspace/NLP_KR/세종코퍼스_다운로드_데이터/구문분석/converted13', '/home/jmin/workspace/NLP_KR/세종코퍼스_다운로드_데이터/구문분석/converted11', '/home/jmin/workspace/NLP_KR/세종코퍼스_다운로드_데이터/구문분석/converted5', '/home/jmin/workspace/NLP_KR/세종코퍼스_다운로드_데이터/구문분석/converted3', '/home/jmin/workspace/NLP_KR/세종코퍼스_다운로드_데이터/구문분석/converted10', '/home/jmin/workspace/NLP_KR/세종코퍼스_다운로드_데이터/구문분석/converted9', '/home/jmin/workspace/NLP_KR/세종코퍼스_다운로드_데이터/구문분석/converted14', '/home/jmin/workspace/NLP_KR/세종코퍼스_다운로드_데이터/구문분석/converted15', '/home/jmin/workspace/NLP_KR/세종코퍼스_다운로드_데이터/구문분석/converted1', '/home/jmin/workspace/NLP_KR/세종코퍼스_다운로드_데이터/구문분석/converted8', '/home/jmin/workspace/NLP_KR/세종코퍼스_다운로드_데이터/구문분석/converted2', '/home/jmin/workspace/NLP_KR/세종코퍼스_다운로드_데이터/구문분석/converted6', '/home/jmin/workspace/NLP_KR/세종코퍼스_다운로드_데이터/구문분석/converted7', '/home/jmin/workspace/NLP_KR/세종코퍼스_다운로드_데이터/구문분석/converted4', '/home/jmin/workspace/NLP_KR/세종코퍼스_다운로드_데이터/구문분석/converted12']\n"
     ]
    }
   ],
   "source": [
    "allfilelist = allfiles(os.getcwd())\n",
    "\n",
    "converted_sejonglist = [file for file in allfilelist if \"converted\" in file]\n",
    "\n",
    "\n",
    "print(converted_sejonglist)"
   ]
  },
  {
   "cell_type": "code",
   "execution_count": 7,
   "metadata": {
    "collapsed": false
   },
   "outputs": [
    {
     "name": "stdout",
     "output_type": "stream",
     "text": [
      "1 /home/jmin/workspace/NLP_KR/세종코퍼스_다운로드_데이터/구문분석/converted13\n",
      "2 /home/jmin/workspace/NLP_KR/세종코퍼스_다운로드_데이터/구문분석/converted11\n",
      "3 /home/jmin/workspace/NLP_KR/세종코퍼스_다운로드_데이터/구문분석/converted5\n",
      "4 /home/jmin/workspace/NLP_KR/세종코퍼스_다운로드_데이터/구문분석/converted3\n",
      "5 /home/jmin/workspace/NLP_KR/세종코퍼스_다운로드_데이터/구문분석/converted10\n",
      "6 /home/jmin/workspace/NLP_KR/세종코퍼스_다운로드_데이터/구문분석/converted9\n",
      "7 /home/jmin/workspace/NLP_KR/세종코퍼스_다운로드_데이터/구문분석/converted14\n",
      "8 /home/jmin/workspace/NLP_KR/세종코퍼스_다운로드_데이터/구문분석/converted15\n",
      "9 /home/jmin/workspace/NLP_KR/세종코퍼스_다운로드_데이터/구문분석/converted1\n",
      "10 /home/jmin/workspace/NLP_KR/세종코퍼스_다운로드_데이터/구문분석/converted8\n",
      "11 /home/jmin/workspace/NLP_KR/세종코퍼스_다운로드_데이터/구문분석/converted2\n",
      "12 /home/jmin/workspace/NLP_KR/세종코퍼스_다운로드_데이터/구문분석/converted6\n",
      "13 /home/jmin/workspace/NLP_KR/세종코퍼스_다운로드_데이터/구문분석/converted7\n",
      "14 /home/jmin/workspace/NLP_KR/세종코퍼스_다운로드_데이터/구문분석/converted4\n",
      "15 /home/jmin/workspace/NLP_KR/세종코퍼스_다운로드_데이터/구문분석/converted12\n"
     ]
    }
   ],
   "source": [
    "for file_counter, convertedfile in enumerate(converted_sejonglist):\n",
    "    print(file_counter+1, convertedfile)\n",
    "    \n",
    "    f = open(convertedfile, 'r', encoding = 'utf-8')\n",
    "    OUT_FILENAME = \"sejong_treebank.txt.v1\"\n",
    "    with codecs.open(OUT_FILENAME, \"a\", \"utf-8\") as file:\n",
    "        data = f.read()\n",
    "        file.write(data)\n",
    "    f.close()\n",
    "    #if file_counter + 1 == 10:\n",
    "    #    break"
   ]
  }
 ],
 "metadata": {
  "kernelspec": {
   "display_name": "Python [Root]",
   "language": "python",
   "name": "Python [Root]"
  },
  "language_info": {
   "codemirror_mode": {
    "name": "ipython",
    "version": 3
   },
   "file_extension": ".py",
   "mimetype": "text/x-python",
   "name": "python",
   "nbconvert_exporter": "python",
   "pygments_lexer": "ipython3",
   "version": "3.5.2"
  }
 },
 "nbformat": 4,
 "nbformat_minor": 0
}
